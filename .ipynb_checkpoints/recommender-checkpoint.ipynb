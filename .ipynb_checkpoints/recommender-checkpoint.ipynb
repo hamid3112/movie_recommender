{
 "cells": [
  {
   "cell_type": "code",
   "execution_count": 51,
   "id": "4f76e036-88b3-4808-ad5e-3a2d9db23312",
   "metadata": {},
   "outputs": [],
   "source": [
    "import pandas as pd\n",
    "import json\n",
    "import ast\n",
    "from sklearn.feature_extraction.text import TfidfVectorizer\n",
    "from sklearn.metrics.pairwise import cosine_similarity"
   ]
  },
  {
   "cell_type": "code",
   "execution_count": 72,
   "id": "886c4f0f-65e3-4608-b1f6-6ccbf1428ad5",
   "metadata": {},
   "outputs": [
    {
     "name": "stdout",
     "output_type": "stream",
     "text": [
      "داده ها با موفقیت بارگذاری شدند و آماده پردازش هستند\n",
      "تعداد فیلم ها: 5000\n",
      "نمایش 5 ردیف اول\n",
      "                          title  \\\n",
      "0                    Toy Story   \n",
      "1                      Jumanji   \n",
      "2             Grumpier Old Men   \n",
      "3            Waiting to Exhale   \n",
      "4  Father of the Bride Part II   \n",
      "\n",
      "                                              genres  \\\n",
      "0  [{'id': 16, 'name': 'Animation'}, {'id': 35, '...   \n",
      "1  [{'id': 12, 'name': 'Adventure'}, {'id': 14, '...   \n",
      "2  [{'id': 10749, 'name': 'Romance'}, {'id': 35, ...   \n",
      "3  [{'id': 35, 'name': 'Comedy'}, {'id': 18, 'nam...   \n",
      "4                     [{'id': 35, 'name': 'Comedy'}]   \n",
      "\n",
      "                                            overview  \\\n",
      "0  Led by Woody, Andy's toys live happily in his ...   \n",
      "1  When siblings Judy and Peter discover an encha...   \n",
      "2  A family wedding reignites the ancient feud be...   \n",
      "3  Cheated on, mistreated and stepped on, the wom...   \n",
      "4  Just when George Banks has recovered from his ...   \n",
      "\n",
      "                                             tagline  \n",
      "0                                                NaN  \n",
      "1          Roll the dice and unleash the excitement!  \n",
      "2  Still Yelling. Still Fighting. Still Ready for...  \n",
      "3  Friends are the people who let you be yourself...  \n",
      "4  Just When His World Is Back To Normal... He's ...  \n"
     ]
    }
   ],
   "source": [
    "try:\n",
    "    path = r\"C:\\Users\\SEYED\\AI\\project\\movie\\data_set\\movies_metadata.csv\"\n",
    "    movie_dataset = pd.read_csv(path , low_memory=False)\n",
    "    movie_dataset = movie_dataset.head(5000)\n",
    "    movie_dataset = movie_dataset[[\"title\" , \"genres\" , \"overview\" , \"tagline\"]]\n",
    "    movie_dataset = movie_dataset.dropna(subset = \"title\").reset_index(drop=True)\n",
    "    print(\"داده ها با موفقیت بارگذاری شدند و آماده پردازش هستند\")\n",
    "    print(\"تعداد فیلم ها:\" , len(movie_dataset))\n",
    "    print(\"نمایش 5 ردیف اول\\n\" , movie_dataset.head(5))\n",
    "except FileNotFoundError:\n",
    "    print(\"خطا: فایل movies_metadata.csv پیدا نشد. لطفاً مطمئن شوید که فایل در پوشه صحیح قرار دارد.\")\n",
    "    exit()\n"
   ]
  },
  {
   "cell_type": "code",
   "execution_count": 74,
   "id": "f0dc5541-cfc4-44c1-9265-92be73fbda8a",
   "metadata": {},
   "outputs": [
    {
     "name": "stdout",
     "output_type": "stream",
     "text": [
      "\n",
      "داده های بعد از پیش پردازش آماده هستند\n",
      "نمایش 5 ردیف اول ستون featurs\n",
      " 0    Animation Comedy Family Led by Woody, Andy's t...\n",
      "1    Adventure Fantasy Family When siblings Judy an...\n",
      "2    Romance Comedy A family wedding reignites the ...\n",
      "3    Comedy Drama Romance Cheated on, mistreated an...\n",
      "4    Comedy Just when George Banks has recovered fr...\n",
      "Name: featurs, dtype: object\n"
     ]
    }
   ],
   "source": [
    "def convert_json_to_string(obj):\n",
    "        if isinstance(obj , str):\n",
    "            try:\n",
    "               return \" \".join([i[\"name\"] for i in ast.literal_eval(obj)])\n",
    "            except (ValueError , SyntaxError):\n",
    "                return \"\"\n",
    "        return \"\"\n",
    "movie_dataset[\"genres\"] = movie_dataset[\"genres\"].apply(convert_json_to_string)\n",
    "movie_dataset[\"tagline\"] = movie_dataset[\"tagline\"].fillna(\"\")\n",
    "movie_dataset[\"overview\"] = movie_dataset[\"overview\"].fillna(\"\")\n",
    "def create_soup(row):\n",
    "    return f\"{row[\"genres\"]} {row[\"overview\"]} {row[\"tagline\"]}\"\n",
    "movie_dataset[\"featurs\"]= movie_dataset.apply(create_soup , axis = 1)\n",
    "print(\"\\nداده های بعد از پیش پردازش آماده هستند\")\n",
    "print(\"نمایش 5 ردیف اول ستون featurs\\n\" , movie_dataset[\"featurs\"].head(5))"
   ]
  },
  {
   "cell_type": "code",
   "execution_count": 76,
   "id": "a6cbd807-58de-4d3c-9bc9-d5c227d67569",
   "metadata": {},
   "outputs": [
    {
     "name": "stdout",
     "output_type": "stream",
     "text": [
      "\n",
      "تبدیل متن به بردار با موفقیت انجام شد\n",
      "ابعاد ماتریس TF-DF : (5000, 23009)\n",
      "\n",
      "محاسبه ماتریس شباهت با موفقیت انجام شد\n",
      "ابعاد ماتریس شباهت :  (5000, 5000)\n"
     ]
    }
   ],
   "source": [
    "#vectorize\n",
    "tfidfvectorizer = TfidfVectorizer(stop_words=\"english\")\n",
    "tfidf_matrix = tfidfvectorizer.fit_transform(movie_dataset[\"featurs\"])\n",
    "print(\"\\nتبدیل متن به بردار با موفقیت انجام شد\")\n",
    "print(\"ابعاد ماتریس TF-DF :\" , tfidf_matrix.shape)\n",
    "#similarity\n",
    "cos_sim = cosine_similarity(tfidf_matrix , tfidf_matrix)\n",
    "print(\"\\nمحاسبه ماتریس شباهت با موفقیت انجام شد\")\n",
    "print(\"ابعاد ماتریس شباهت : \", cos_sim.shape)\n",
    "#ساخت تابع توصیه گر"
   ]
  }
 ],
 "metadata": {
  "kernelspec": {
   "display_name": "Python 3 (ipykernel)",
   "language": "python",
   "name": "python3"
  },
  "language_info": {
   "codemirror_mode": {
    "name": "ipython",
    "version": 3
   },
   "file_extension": ".py",
   "mimetype": "text/x-python",
   "name": "python",
   "nbconvert_exporter": "python",
   "pygments_lexer": "ipython3",
   "version": "3.12.7"
  }
 },
 "nbformat": 4,
 "nbformat_minor": 5
}
