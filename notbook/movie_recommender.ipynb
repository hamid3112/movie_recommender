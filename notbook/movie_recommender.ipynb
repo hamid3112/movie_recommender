{
 "cells": [
  {
   "cell_type": "code",
   "execution_count": 9,
   "id": "33a3bce0-974b-4834-ad40-1fcee5b12a8c",
   "metadata": {},
   "outputs": [
    {
     "name": "stderr",
     "output_type": "stream",
     "text": [
      "2025-08-07 15:44:12.791 \n",
      "  \u001b[33m\u001b[1mWarning:\u001b[0m to view this Streamlit app on a browser, run it with the following\n",
      "  command:\n",
      "\n",
      "    streamlit run C:\\Users\\SEYED\\anaconda3\\Lib\\site-packages\\ipykernel_launcher.py [ARGUMENTS]\n",
      "2025-08-07 15:44:12.791 Session state does not function when running a script without `streamlit run`\n"
     ]
    }
   ],
   "source": [
    "import pandas as pd\n",
    "import json\n",
    "import ast\n",
    "from sklearn.feature_extraction.text import TfidfVectorizer\n",
    "from sklearn.metrics.pairwise import cosine_similarity\n",
    "import streamlit as st\n",
    "try:\n",
    "    path = r\"C:\\Users\\SEYED\\AI\\project\\movie\\data_set\\movies_metadata.csv\"\n",
    "    movie_dataset = pd.read_csv(path , low_memory=False)\n",
    "    movie_dataset = movie_dataset[[\"title\" , \"genres\" , \"overview\" , \"tagline\"]]\n",
    "    movie_dataset = movie_dataset.dropna(subset = \"title\").reset_index(drop=True)\n",
    "    movie_dataset[\"title\"] = movie_dataset[\"title\"].apply(lambda x : x.lower())\n",
    "    movie_dataset[\"genres\"] = movie_dataset[\"genres\"].apply(lambda x :\" \".join([i[\"name\"] for i in ast.literal_eval(x)]) if isinstance(x , str) else \"\")\n",
    "    movie_dataset[\"tagline\"] = movie_dataset[\"tagline\"].fillna(\"\")\n",
    "    movie_dataset[\"overview\"] = movie_dataset[\"overview\"].fillna(\"\")\n",
    "    movie_dataset[\"featurs\"] = movie_dataset.apply(lambda row :f'{row[\"genres\"]} {row[\"overview\"]} {row[\"tagline\"]}' , axis = 1 )\n",
    "    movie_dataset = movie_dataset.head(8000)\n",
    "    tfidfvectorizer = TfidfVectorizer(stop_words=\"english\")\n",
    "    tfidf_matrix = tfidfvectorizer.fit_transform(movie_dataset[\"featurs\"])\n",
    "    cos_sim = cosine_similarity(tfidf_matrix , tfidf_matrix)\n",
    "    indices = pd.Series(movie_dataset.index , index = movie_dataset[\"title\"]).drop_duplicates()\n",
    "except FileNotFoundError:\n",
    "    st.error(\"خطا: فایل movies_metadata.csv پیدا نشد. لطفاً مطمئن شوید که فایل در پوشه صحیح قرار دارد.\")\n",
    "    st.stop()\n",
    "except MemoryError:\n",
    "    st.error(\"خطا: حافظه کافی برای پردازش دیتاست وجود ندارد. لطفاً از یک زیرمجموعه کوچکتر استفاده کنید.\")\n",
    "    st.stop()\n",
    "\n",
    "\n",
    "def get_recommendatin(title , cos_sim = cos_sim):\n",
    "    title = title.lower()\n",
    "    try :\n",
    "        idx = indices[title]\n",
    "        sim_score = list (enumerate(cos_sim[idx]))\n",
    "        sim_score = sorted(sim_score , key = lambda x : x[1] , reverse=True)\n",
    "        sim_score = sim_score[1:6]\n",
    "        movie_indices = [i[0]for i in sim_score]\n",
    "        return movie_dataset[\"title\"].iloc[movie_indices].tolist()\n",
    "    except KeyError:\n",
    "        return f\"{title} در لیست فیلم ها موجود نیست!\"\n",
    "st.title(\"چت‌بات پیشنهاد فیلم 🤖\")\n",
    "st.markdown(\"فیلم موردعلاقه ات رو به انگلیسی وارد کن ، اگه بتونم بهت 5 تا فیلم مشابه با امتیاز و موضوع نزدیک بهش بهت پیشنهاد میدم😍\")\n",
    "movie_title = st.text_input(\"اسم فیلم رو وارد کن:\",\"Toy Story\")\n",
    "if st.button(\"شروع کنید🕵️\"):\n",
    "    with st.spinner(\"دارم میگردم...\"):\n",
    "        recommendations = get_recommendatin(movie_title)\n",
    "    if isinstance (recommendations , list):\n",
    "        st.success(\"اینارم ببینی خوبه 📹:\")\n",
    "        for movie in recommendations:\n",
    "            st.write(f\"▪️ {movie}\")\n",
    "    else:\n",
    "        st.warning(recommendations)"
   ]
  }
 ],
 "metadata": {
  "kernelspec": {
   "display_name": "Python 3 (ipykernel)",
   "language": "python",
   "name": "python3"
  },
  "language_info": {
   "codemirror_mode": {
    "name": "ipython",
    "version": 3
   },
   "file_extension": ".py",
   "mimetype": "text/x-python",
   "name": "python",
   "nbconvert_exporter": "python",
   "pygments_lexer": "ipython3",
   "version": "3.12.7"
  }
 },
 "nbformat": 4,
 "nbformat_minor": 5
}
