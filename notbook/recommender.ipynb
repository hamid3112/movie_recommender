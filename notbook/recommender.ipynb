{
 "cells": [
  {
   "cell_type": "code",
   "execution_count": 67,
   "id": "4f76e036-88b3-4808-ad5e-3a2d9db23312",
   "metadata": {},
   "outputs": [
    {
     "name": "stdout",
     "output_type": "stream",
     "text": [
      "داده ها با موفقیت بارگذاری شدند و آماده پردازش هستند\n",
      "\n",
      "داده های بعد از پیش پردازش آماده هستند\n",
      "\n",
      "تبدیل متن به بردار با موفقیت انجام شد\n",
      "ابعاد ماتریس TF-DF : (10000, 33280)\n"
     ]
    },
    {
     "ename": "MemoryError",
     "evalue": "Unable to allocate 509. MiB for an array with shape (66651493,) and data type float64",
     "output_type": "error",
     "traceback": [
      "\u001b[1;31m---------------------------------------------------------------------------\u001b[0m",
      "\u001b[1;31mMemoryError\u001b[0m                               Traceback (most recent call last)",
      "Cell \u001b[1;32mIn[67], line 37\u001b[0m\n\u001b[0;32m     35\u001b[0m \u001b[38;5;28mprint\u001b[39m(\u001b[38;5;124m\"\u001b[39m\u001b[38;5;124mابعاد ماتریس TF-DF :\u001b[39m\u001b[38;5;124m\"\u001b[39m , tfidf_matrix\u001b[38;5;241m.\u001b[39mshape)\n\u001b[0;32m     36\u001b[0m \u001b[38;5;66;03m#similarity\u001b[39;00m\n\u001b[1;32m---> 37\u001b[0m cos_sim \u001b[38;5;241m=\u001b[39m cosine_similarity(tfidf_matrix , tfidf_matrix)\n\u001b[0;32m     38\u001b[0m \u001b[38;5;28mprint\u001b[39m(\u001b[38;5;124m\"\u001b[39m\u001b[38;5;130;01m\\n\u001b[39;00m\u001b[38;5;124mمحاسبه ماتریس شباهت با موفقیت انجام شد\u001b[39m\u001b[38;5;124m\"\u001b[39m)\n\u001b[0;32m     39\u001b[0m \u001b[38;5;66;03m#ساخت تابع توصیه گر\u001b[39;00m\n",
      "File \u001b[1;32m~\\anaconda3\\Lib\\site-packages\\sklearn\\utils\\_param_validation.py:213\u001b[0m, in \u001b[0;36mvalidate_params.<locals>.decorator.<locals>.wrapper\u001b[1;34m(*args, **kwargs)\u001b[0m\n\u001b[0;32m    207\u001b[0m \u001b[38;5;28;01mtry\u001b[39;00m:\n\u001b[0;32m    208\u001b[0m     \u001b[38;5;28;01mwith\u001b[39;00m config_context(\n\u001b[0;32m    209\u001b[0m         skip_parameter_validation\u001b[38;5;241m=\u001b[39m(\n\u001b[0;32m    210\u001b[0m             prefer_skip_nested_validation \u001b[38;5;129;01mor\u001b[39;00m global_skip_validation\n\u001b[0;32m    211\u001b[0m         )\n\u001b[0;32m    212\u001b[0m     ):\n\u001b[1;32m--> 213\u001b[0m         \u001b[38;5;28;01mreturn\u001b[39;00m func(\u001b[38;5;241m*\u001b[39margs, \u001b[38;5;241m*\u001b[39m\u001b[38;5;241m*\u001b[39mkwargs)\n\u001b[0;32m    214\u001b[0m \u001b[38;5;28;01mexcept\u001b[39;00m InvalidParameterError \u001b[38;5;28;01mas\u001b[39;00m e:\n\u001b[0;32m    215\u001b[0m     \u001b[38;5;66;03m# When the function is just a wrapper around an estimator, we allow\u001b[39;00m\n\u001b[0;32m    216\u001b[0m     \u001b[38;5;66;03m# the function to delegate validation to the estimator, but we replace\u001b[39;00m\n\u001b[0;32m    217\u001b[0m     \u001b[38;5;66;03m# the name of the estimator by the name of the function in the error\u001b[39;00m\n\u001b[0;32m    218\u001b[0m     \u001b[38;5;66;03m# message to avoid confusion.\u001b[39;00m\n\u001b[0;32m    219\u001b[0m     msg \u001b[38;5;241m=\u001b[39m re\u001b[38;5;241m.\u001b[39msub(\n\u001b[0;32m    220\u001b[0m         \u001b[38;5;124mr\u001b[39m\u001b[38;5;124m\"\u001b[39m\u001b[38;5;124mparameter of \u001b[39m\u001b[38;5;124m\\\u001b[39m\u001b[38;5;124mw+ must be\u001b[39m\u001b[38;5;124m\"\u001b[39m,\n\u001b[0;32m    221\u001b[0m         \u001b[38;5;124mf\u001b[39m\u001b[38;5;124m\"\u001b[39m\u001b[38;5;124mparameter of \u001b[39m\u001b[38;5;132;01m{\u001b[39;00mfunc\u001b[38;5;241m.\u001b[39m\u001b[38;5;18m__qualname__\u001b[39m\u001b[38;5;132;01m}\u001b[39;00m\u001b[38;5;124m must be\u001b[39m\u001b[38;5;124m\"\u001b[39m,\n\u001b[0;32m    222\u001b[0m         \u001b[38;5;28mstr\u001b[39m(e),\n\u001b[0;32m    223\u001b[0m     )\n",
      "File \u001b[1;32m~\\anaconda3\\Lib\\site-packages\\sklearn\\metrics\\pairwise.py:1687\u001b[0m, in \u001b[0;36mcosine_similarity\u001b[1;34m(X, Y, dense_output)\u001b[0m\n\u001b[0;32m   1684\u001b[0m \u001b[38;5;28;01melse\u001b[39;00m:\n\u001b[0;32m   1685\u001b[0m     Y_normalized \u001b[38;5;241m=\u001b[39m normalize(Y, copy\u001b[38;5;241m=\u001b[39m\u001b[38;5;28;01mTrue\u001b[39;00m)\n\u001b[1;32m-> 1687\u001b[0m K \u001b[38;5;241m=\u001b[39m safe_sparse_dot(X_normalized, Y_normalized\u001b[38;5;241m.\u001b[39mT, dense_output\u001b[38;5;241m=\u001b[39mdense_output)\n\u001b[0;32m   1689\u001b[0m \u001b[38;5;28;01mreturn\u001b[39;00m K\n",
      "File \u001b[1;32m~\\anaconda3\\Lib\\site-packages\\sklearn\\utils\\extmath.py:205\u001b[0m, in \u001b[0;36msafe_sparse_dot\u001b[1;34m(a, b, dense_output)\u001b[0m\n\u001b[0;32m    203\u001b[0m         ret \u001b[38;5;241m=\u001b[39m np\u001b[38;5;241m.\u001b[39mdot(a, b)\n\u001b[0;32m    204\u001b[0m \u001b[38;5;28;01melse\u001b[39;00m:\n\u001b[1;32m--> 205\u001b[0m     ret \u001b[38;5;241m=\u001b[39m a \u001b[38;5;241m@\u001b[39m b\n\u001b[0;32m    207\u001b[0m \u001b[38;5;28;01mif\u001b[39;00m (\n\u001b[0;32m    208\u001b[0m     sparse\u001b[38;5;241m.\u001b[39missparse(a)\n\u001b[0;32m    209\u001b[0m     \u001b[38;5;129;01mand\u001b[39;00m sparse\u001b[38;5;241m.\u001b[39missparse(b)\n\u001b[0;32m    210\u001b[0m     \u001b[38;5;129;01mand\u001b[39;00m dense_output\n\u001b[0;32m    211\u001b[0m     \u001b[38;5;129;01mand\u001b[39;00m \u001b[38;5;28mhasattr\u001b[39m(ret, \u001b[38;5;124m\"\u001b[39m\u001b[38;5;124mtoarray\u001b[39m\u001b[38;5;124m\"\u001b[39m)\n\u001b[0;32m    212\u001b[0m ):\n\u001b[0;32m    213\u001b[0m     \u001b[38;5;28;01mreturn\u001b[39;00m ret\u001b[38;5;241m.\u001b[39mtoarray()\n",
      "File \u001b[1;32m~\\anaconda3\\Lib\\site-packages\\scipy\\sparse\\_base.py:695\u001b[0m, in \u001b[0;36m_spbase.__matmul__\u001b[1;34m(self, other)\u001b[0m\n\u001b[0;32m    692\u001b[0m \u001b[38;5;28;01mif\u001b[39;00m isscalarlike(other):\n\u001b[0;32m    693\u001b[0m     \u001b[38;5;28;01mraise\u001b[39;00m \u001b[38;5;167;01mValueError\u001b[39;00m(\u001b[38;5;124m\"\u001b[39m\u001b[38;5;124mScalar operands are not allowed, \u001b[39m\u001b[38;5;124m\"\u001b[39m\n\u001b[0;32m    694\u001b[0m                      \u001b[38;5;124m\"\u001b[39m\u001b[38;5;124muse \u001b[39m\u001b[38;5;124m'\u001b[39m\u001b[38;5;124m*\u001b[39m\u001b[38;5;124m'\u001b[39m\u001b[38;5;124m instead\u001b[39m\u001b[38;5;124m\"\u001b[39m)\n\u001b[1;32m--> 695\u001b[0m \u001b[38;5;28;01mreturn\u001b[39;00m \u001b[38;5;28mself\u001b[39m\u001b[38;5;241m.\u001b[39m_matmul_dispatch(other)\n",
      "File \u001b[1;32m~\\anaconda3\\Lib\\site-packages\\scipy\\sparse\\_base.py:606\u001b[0m, in \u001b[0;36m_spbase._matmul_dispatch\u001b[1;34m(self, other)\u001b[0m\n\u001b[0;32m    604\u001b[0m     \u001b[38;5;28;01mif\u001b[39;00m other\u001b[38;5;241m.\u001b[39mndim \u001b[38;5;241m==\u001b[39m \u001b[38;5;241m1\u001b[39m:\n\u001b[0;32m    605\u001b[0m         \u001b[38;5;28;01mraise\u001b[39;00m \u001b[38;5;167;01mValueError\u001b[39;00m(\u001b[38;5;124m'\u001b[39m\u001b[38;5;124mCannot yet multiply a 1d sparse array\u001b[39m\u001b[38;5;124m'\u001b[39m)\n\u001b[1;32m--> 606\u001b[0m     \u001b[38;5;28;01mreturn\u001b[39;00m \u001b[38;5;28mself\u001b[39m\u001b[38;5;241m.\u001b[39m_matmul_sparse(other)\n\u001b[0;32m    608\u001b[0m \u001b[38;5;66;03m# If it's a list or whatever, treat it like an array\u001b[39;00m\n\u001b[0;32m    609\u001b[0m other_a \u001b[38;5;241m=\u001b[39m np\u001b[38;5;241m.\u001b[39masanyarray(other)\n",
      "File \u001b[1;32m~\\anaconda3\\Lib\\site-packages\\scipy\\sparse\\_compressed.py:532\u001b[0m, in \u001b[0;36m_cs_matrix._matmul_sparse\u001b[1;34m(self, other)\u001b[0m\n\u001b[0;32m    530\u001b[0m indptr \u001b[38;5;241m=\u001b[39m np\u001b[38;5;241m.\u001b[39mempty(major_axis \u001b[38;5;241m+\u001b[39m \u001b[38;5;241m1\u001b[39m, dtype\u001b[38;5;241m=\u001b[39midx_dtype)\n\u001b[0;32m    531\u001b[0m indices \u001b[38;5;241m=\u001b[39m np\u001b[38;5;241m.\u001b[39mempty(nnz, dtype\u001b[38;5;241m=\u001b[39midx_dtype)\n\u001b[1;32m--> 532\u001b[0m data \u001b[38;5;241m=\u001b[39m np\u001b[38;5;241m.\u001b[39mempty(nnz, dtype\u001b[38;5;241m=\u001b[39mupcast(\u001b[38;5;28mself\u001b[39m\u001b[38;5;241m.\u001b[39mdtype, other\u001b[38;5;241m.\u001b[39mdtype))\n\u001b[0;32m    534\u001b[0m fn \u001b[38;5;241m=\u001b[39m \u001b[38;5;28mgetattr\u001b[39m(_sparsetools, \u001b[38;5;28mself\u001b[39m\u001b[38;5;241m.\u001b[39mformat \u001b[38;5;241m+\u001b[39m \u001b[38;5;124m'\u001b[39m\u001b[38;5;124m_matmat\u001b[39m\u001b[38;5;124m'\u001b[39m)\n\u001b[0;32m    535\u001b[0m fn(M, N, np\u001b[38;5;241m.\u001b[39masarray(\u001b[38;5;28mself\u001b[39m\u001b[38;5;241m.\u001b[39mindptr, dtype\u001b[38;5;241m=\u001b[39midx_dtype),\n\u001b[0;32m    536\u001b[0m    np\u001b[38;5;241m.\u001b[39masarray(\u001b[38;5;28mself\u001b[39m\u001b[38;5;241m.\u001b[39mindices, dtype\u001b[38;5;241m=\u001b[39midx_dtype),\n\u001b[0;32m    537\u001b[0m    \u001b[38;5;28mself\u001b[39m\u001b[38;5;241m.\u001b[39mdata,\n\u001b[1;32m   (...)\u001b[0m\n\u001b[0;32m    540\u001b[0m    other\u001b[38;5;241m.\u001b[39mdata,\n\u001b[0;32m    541\u001b[0m    indptr, indices, data)\n",
      "\u001b[1;31mMemoryError\u001b[0m: Unable to allocate 509. MiB for an array with shape (66651493,) and data type float64"
     ]
    }
   ],
   "source": [
    "import pandas as pd\n",
    "import json\n",
    "import ast\n",
    "from sklearn.feature_extraction.text import TfidfVectorizer\n",
    "from sklearn.metrics.pairwise import cosine_similarity\n",
    "import faiss\n",
    "from sklearn.preprocessing import normalize\n",
    "import numpy as np\n",
    "try:\n",
    "    path = r\"C:\\Users\\SEYED\\AI\\project\\movie\\data_set\\movies_metadata.csv\"\n",
    "    movie_dataset = pd.read_csv(path , low_memory=False)\n",
    "    movie_dataset = movie_dataset.head(10000)\n",
    "    movie_dataset[\"title\"] = movie_dataset[\"title\"].apply(lambda x : str(x).lower())\n",
    "    movie_dataset = movie_dataset[[\"title\" , \"genres\" , \"overview\" , \"tagline\"]]\n",
    "    movie_dataset = movie_dataset.dropna(subset = \"title\").reset_index(drop=True)\n",
    "    print(\"داده ها با موفقیت بارگذاری شدند و آماده پردازش هستند\")\n",
    "except FileNotFoundError:\n",
    "    print(\"خطا: فایل movies_metadata.csv پیدا نشد. لطفاً مطمئن شوید که فایل در پوشه صحیح قرار دارد.\")\n",
    "    exit()\n",
    "def convert_json_to_string(obj):\n",
    "        if isinstance(obj , str):\n",
    "            try:\n",
    "               return \" \".join([i[\"name\"] for i in ast.literal_eval(obj)])\n",
    "            except (ValueError , SyntaxError):\n",
    "                return \"\"\n",
    "        return \"\"\n",
    "movie_dataset[\"genres\"] = movie_dataset[\"genres\"].apply(convert_json_to_string)\n",
    "movie_dataset[\"tagline\"] = movie_dataset[\"tagline\"].fillna(\"\")\n",
    "movie_dataset[\"overview\"] = movie_dataset[\"overview\"].fillna(\"\")\n",
    "def create_soup(row):\n",
    "    return f'{row[\"genres\"]} {row[\"overview\"]} {row[\"tagline\"]}'\n",
    "movie_dataset[\"featurs\"]= movie_dataset.apply(create_soup , axis = 1)\n",
    "print(\"\\nداده های بعد از پیش پردازش آماده هستند\")\n",
    "#vectorize\n",
    "tfidfvectorizer = TfidfVectorizer(stop_words=\"english\")\n",
    "tfidf_matrix = tfidfvectorizer.fit_transform(movie_dataset[\"featurs\"])\n",
    "print(\"\\nتبدیل متن به بردار با موفقیت انجام شد\")\n",
    "print(\"ابعاد ماتریس TF-DF :\" , tfidf_matrix.shape)\n",
    "#similarity\n",
    "cos_sim = cosine_similarity(tfidf_matrix , tfidf_matrix)\n",
    "print(\"\\nمحاسبه ماتریس شباهت با موفقیت انجام شد\")\n",
    "#ساخت تابع توصیه گر\n",
    "indices = pd.Series(movie_dataset.index , index = movie_dataset[\"title\"]).drop_duplicates()\n",
    "def get_recommendatin(title , cos_sim = cos_sim):\n",
    "    title = title.lower()\n",
    "    try :\n",
    "        idx = indices[title]\n",
    "        sim_score = list (enumerate(cos_sim[idx]))\n",
    "        sim_score = sorted(sim_score , key = lambda x : x[1] , reverse=True)\n",
    "        sim_score = sim_score[1:11]\n",
    "        movie_indices = [i[0]for i in sim_score]\n",
    "        return movie_dataset[\"title\"].iloc[movie_indices].tolist()\n",
    "    except KeyError:\n",
    "        return [f\"{title} در لیست فیلم ها موجود نیست!\"]\n",
    "#exm : toy story\n",
    "print(\"فیلم های مشابه با toy story :\")\n",
    "for i,j in zip(get_recommendatin(\"toy story\"), range(len(get_recommendatin(\"toy story\")))):\n",
    "    print(j+1,\"-\",i)"
   ]
  },
  {
   "cell_type": "code",
   "execution_count": 71,
   "id": "fdc291e1-2674-42bb-b932-cb953ea8c2f1",
   "metadata": {},
   "outputs": [
    {
     "name": "stdout",
     "output_type": "stream",
     "text": [
      "Collecting faiss-cpu\n",
      "  Downloading faiss_cpu-1.11.0.post1-cp312-cp312-win_amd64.whl.metadata (5.1 kB)\n",
      "Requirement already satisfied: numpy<3.0,>=1.25.0 in c:\\users\\seyed\\anaconda3\\lib\\site-packages (from faiss-cpu) (1.26.4)\n",
      "Requirement already satisfied: packaging in c:\\users\\seyed\\anaconda3\\lib\\site-packages (from faiss-cpu) (24.1)\n",
      "Downloading faiss_cpu-1.11.0.post1-cp312-cp312-win_amd64.whl (14.9 MB)\n",
      "   ---------------------------------------- 0.0/14.9 MB ? eta -:--:--\n",
      "   ---------------------------------------- 0.0/14.9 MB ? eta -:--:--\n",
      "    --------------------------------------- 0.3/14.9 MB ? eta -:--:--\n",
      "   - -------------------------------------- 0.5/14.9 MB 1.1 MB/s eta 0:00:13\n",
      "   -- ------------------------------------- 0.8/14.9 MB 1.2 MB/s eta 0:00:12\n",
      "   -- ------------------------------------- 1.0/14.9 MB 1.1 MB/s eta 0:00:13\n",
      "   --- ------------------------------------ 1.3/14.9 MB 1.2 MB/s eta 0:00:12\n",
      "   ---- ----------------------------------- 1.6/14.9 MB 1.2 MB/s eta 0:00:12\n",
      "   ---- ----------------------------------- 1.8/14.9 MB 1.2 MB/s eta 0:00:12\n",
      "   ----- ---------------------------------- 2.1/14.9 MB 1.2 MB/s eta 0:00:11\n",
      "   ------ --------------------------------- 2.4/14.9 MB 1.3 MB/s eta 0:00:10\n",
      "   ------- -------------------------------- 2.6/14.9 MB 1.2 MB/s eta 0:00:10\n",
      "   -------- ------------------------------- 3.1/14.9 MB 1.3 MB/s eta 0:00:09\n",
      "   --------- ------------------------------ 3.4/14.9 MB 1.4 MB/s eta 0:00:09\n",
      "   --------- ------------------------------ 3.7/14.9 MB 1.4 MB/s eta 0:00:09\n",
      "   ----------- ---------------------------- 4.5/14.9 MB 1.5 MB/s eta 0:00:07\n",
      "   ----------- ---------------------------- 4.5/14.9 MB 1.5 MB/s eta 0:00:07\n",
      "   ------------- -------------------------- 5.0/14.9 MB 1.5 MB/s eta 0:00:07\n",
      "   -------------- ------------------------- 5.5/14.9 MB 1.5 MB/s eta 0:00:07\n",
      "   --------------- ------------------------ 5.8/14.9 MB 1.6 MB/s eta 0:00:06\n",
      "   ---------------- ----------------------- 6.0/14.9 MB 1.5 MB/s eta 0:00:06\n",
      "   ----------------- ---------------------- 6.6/14.9 MB 1.6 MB/s eta 0:00:06\n",
      "   ------------------ --------------------- 6.8/14.9 MB 1.6 MB/s eta 0:00:06\n",
      "   ------------------- -------------------- 7.3/14.9 MB 1.6 MB/s eta 0:00:05\n",
      "   ------------------- -------------------- 7.3/14.9 MB 1.6 MB/s eta 0:00:05\n",
      "   --------------------- ------------------ 7.9/14.9 MB 1.5 MB/s eta 0:00:05\n",
      "   ---------------------- ----------------- 8.4/14.9 MB 1.6 MB/s eta 0:00:05\n",
      "   ----------------------- ---------------- 8.7/14.9 MB 1.6 MB/s eta 0:00:04\n",
      "   ----------------------- ---------------- 8.7/14.9 MB 1.6 MB/s eta 0:00:04\n",
      "   ------------------------- -------------- 9.4/14.9 MB 1.6 MB/s eta 0:00:04\n",
      "   -------------------------- ------------- 9.7/14.9 MB 1.6 MB/s eta 0:00:04\n",
      "   -------------------------- ------------- 10.0/14.9 MB 1.6 MB/s eta 0:00:04\n",
      "   ---------------------------- ----------- 10.5/14.9 MB 1.6 MB/s eta 0:00:03\n",
      "   ------------------------------ --------- 11.3/14.9 MB 1.7 MB/s eta 0:00:03\n",
      "   ------------------------------- -------- 11.8/14.9 MB 1.7 MB/s eta 0:00:02\n",
      "   --------------------------------- ------ 12.3/14.9 MB 1.7 MB/s eta 0:00:02\n",
      "   ----------------------------------- ---- 13.1/14.9 MB 1.8 MB/s eta 0:00:02\n",
      "   ------------------------------------ --- 13.6/14.9 MB 1.8 MB/s eta 0:00:01\n",
      "   ------------------------------------- -- 13.9/14.9 MB 1.8 MB/s eta 0:00:01\n",
      "   ---------------------------------------  14.7/14.9 MB 1.8 MB/s eta 0:00:01\n",
      "   ---------------------------------------- 14.9/14.9 MB 1.8 MB/s eta 0:00:00\n",
      "Installing collected packages: faiss-cpu\n",
      "Successfully installed faiss-cpu-1.11.0.post1\n",
      "Note: you may need to restart the kernel to use updated packages.\n"
     ]
    },
    {
     "name": "stderr",
     "output_type": "stream",
     "text": [
      "WARNING: Ignoring invalid distribution ~ympy (C:\\Users\\SEYED\\anaconda3\\Lib\\site-packages)\n",
      "WARNING: Ignoring invalid distribution ~ympy (C:\\Users\\SEYED\\anaconda3\\Lib\\site-packages)\n",
      "WARNING: Ignoring invalid distribution ~ympy (C:\\Users\\SEYED\\anaconda3\\Lib\\site-packages)\n"
     ]
    }
   ],
   "source": [
    "pip install faiss-cpu\n"
   ]
  }
 ],
 "metadata": {
  "kernelspec": {
   "display_name": "Python 3 (ipykernel)",
   "language": "python",
   "name": "python3"
  },
  "language_info": {
   "codemirror_mode": {
    "name": "ipython",
    "version": 3
   },
   "file_extension": ".py",
   "mimetype": "text/x-python",
   "name": "python",
   "nbconvert_exporter": "python",
   "pygments_lexer": "ipython3",
   "version": "3.12.7"
  }
 },
 "nbformat": 4,
 "nbformat_minor": 5
}
